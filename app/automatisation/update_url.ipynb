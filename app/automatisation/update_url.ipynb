{
 "cells": [
  {
   "cell_type": "code",
   "execution_count": 1,
   "metadata": {},
   "outputs": [],
   "source": [
    "from seleniumwire import webdriver  \n",
    "from selenium.webdriver.chrome.options import Options\n",
    "from selenium.webdriver.common.by import By\n",
    "import chromedriver_autoinstaller\n",
    "from dotenv import load_dotenv\n",
    "import os\n",
    "\n",
    "chromedriver_autoinstaller.install() # For Windows, Linux, and macOS\n",
    "chrome_options = Options()\n",
    "# chrome_options.add_argument('--headless=new')\n",
    "# chrome_options.add_argument('--disable-gpu')\n",
    "# chrome_options.add_argument('--no-sandbox')\n",
    "# chrome_options.add_argument('--disable-dev-shm-usage')\n",
    "driver = webdriver.Chrome(options=chrome_options)\n",
    "driver.get('https://cloud.timeedit.net/chalmers/web/b1/')"
   ]
  },
  {
   "cell_type": "code",
   "execution_count": 2,
   "metadata": {},
   "outputs": [],
   "source": [
    "# Press Login button\n",
    "login_button = driver.find_element(By.XPATH, \"/html/body/div[2]/div/table/tbody/tr/td/div/form/div/a[1]\")\n",
    "login_button.click()"
   ]
  },
  {
   "cell_type": "code",
   "execution_count": 3,
   "metadata": {},
   "outputs": [],
   "source": [
    "# Load environment variables from a .env file\n",
    "load_dotenv()\n",
    "\n",
    "CID_USERNAME = os.getenv(\"CID_USERNAME\")\n",
    "CID_PASSWORD = os.getenv(\"CID_PASSWORD\")"
   ]
  },
  {
   "cell_type": "code",
   "execution_count": 4,
   "metadata": {},
   "outputs": [],
   "source": [
    "# Login using CID credentials from .env file\n",
    "username_input = driver.find_element(By.ID, \"userNameInput\")\n",
    "username_input.send_keys(CID_USERNAME)\n",
    "password_input = driver.find_element(By.ID, \"passwordInput\")\n",
    "password_input.send_keys(CID_PASSWORD)\n",
    "login_form = driver.find_element(By.ID, \"loginForm\")\n",
    "login_form.submit()"
   ]
  },
  {
   "cell_type": "code",
   "execution_count": 6,
   "metadata": {},
   "outputs": [],
   "source": [
    "# Go to the booking page\n",
    "book_grouproom_link = driver.find_element(By.XPATH, \"/html/body/div[3]/div[2]/div[5]/div[1]/div[3]/a[1]\")\n",
    "book_grouproom_link.click()"
   ]
  },
  {
   "cell_type": "code",
   "execution_count": 9,
   "metadata": {},
   "outputs": [],
   "source": [
    "# Wait for the page to fully load\n",
    "from time import sleep\n",
    "sleep(5)"
   ]
  },
  {
   "cell_type": "code",
   "execution_count": 22,
   "metadata": {},
   "outputs": [
    {
     "data": {
      "text/plain": [
       "'https://cloud.timeedit.net/chalmers/web/b1/ri18560355008XQQ56ZZ650008yYW81446155508Q65478665YX836Y3X2645612552X67386171Y518665Y42Y6527X45X53356017Y4711X55325Y5X66173Y4176553XY64X1636X65555Y8735541451567668XY4385Y7184X7X56Y85435675836Y563541186YX6553YX633196575Y4X3155X1636165855X61854Y37Y5661346X53X43Y7835561Y658X666753856Y513Y2331Y567146XX3756937455411XY63665560X3Y6Y816X4337658X3655175321X15Y67155Y5735638X563Y5774Y6143357X15Y16X5367X58667434Y18Y305XX556189370Y615454X76913496868663X231YY6X6509X065350Y918636150Y9959X61Y396X35XY6316466900Y7195X6519666031XY619950X39386106XY09950Y6116Y1X55451369c61Q1YY59Z841yX37cZ93W5aX5cjp5o37541X1YQ51Q6nbZZQngfQc.html'"
      ]
     },
     "execution_count": 22,
     "metadata": {},
     "output_type": "execute_result"
    }
   ],
   "source": [
    "# Get this week's URL\n",
    "this_week_url = None\n",
    "for request in driver.requests:\n",
    "    if \"cloud.timeedit.net/chalmers/web/b1/\" in request.url and len(request.url) > 400:\n",
    "        this_week_url = request.url\n",
    "        break\n",
    "this_week_url"
   ]
  },
  {
   "cell_type": "code",
   "execution_count": null,
   "metadata": {},
   "outputs": [],
   "source": [
    "# Go too next week"
   ]
  }
 ],
 "metadata": {
  "kernelspec": {
   "display_name": "Python 3",
   "language": "python",
   "name": "python3"
  },
  "language_info": {
   "codemirror_mode": {
    "name": "ipython",
    "version": 3
   },
   "file_extension": ".py",
   "mimetype": "text/x-python",
   "name": "python",
   "nbconvert_exporter": "python",
   "pygments_lexer": "ipython3",
   "version": "3.12.2"
  }
 },
 "nbformat": 4,
 "nbformat_minor": 2
}
